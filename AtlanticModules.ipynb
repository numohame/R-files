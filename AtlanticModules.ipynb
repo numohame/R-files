{
 "cells": [
  {
   "cell_type": "code",
   "execution_count": null,
   "id": "a5631573",
   "metadata": {},
   "outputs": [],
   "source": [
    "# You need to run this function in the command line\n",
    "# pip install rpy2[all]\n",
    "import rpy2\n",
    "import rpy2.robjects as robjects\n",
    "from rpy2.robjects import pandas2ri\n",
    "pandas2ri.activate()"
   ]
  },
  {
   "cell_type": "code",
   "execution_count": null,
   "id": "6bf89076",
   "metadata": {},
   "outputs": [],
   "source": [
    "########### R FUNCTIONS INDEX FROM 1, PYTHON IS 0-INDEX, SO BE WARY OF THAT\n",
    "\n",
    "# FilterAtlanticBoxPct function\n",
    "filter_atlantic_box_pct = '''\n",
    "FilterAtlanticBoxPct <- function (filter, filterRange, betaFactor, betaRange, values, AUM){\n",
    "  items <- unique(filterRange);\n",
    "  bvalues <- values*betaRange;\n",
    "  bvalues <- bvalues/AUM;\n",
    "  values <- values/AUM;\n",
    "  bnet <- numeric(0);\n",
    "  net <- numeric(0);\n",
    "  for(i in items){\n",
    "    bnet <- c(bnet,FltNetExp(i, filterRange, bvalues));\n",
    "    net <- c(net,FltNetExp(i, filterRange, values));\n",
    "  }\n",
    "  x <- cbind(items, net, bnet);\n",
    "  x <- as.matrix(x);\n",
    "  x <- matrix(x, ncol = ncol(x), dimnames = NULL);\n",
    "  x <- x[order(as.numeric(x[,2]), decreasing = TRUE),];\n",
    "  x <- rbind(c(paste(filter, \"Exposure\", sep=\" \"),'Exposure','Beta Exposure'),x,c('Total',sum(net),sum(bnet)));\n",
    "  return( x );\n",
    "}\n",
    "'''\n",
    "robjects.r(filter_atlantic_box_pct)\n",
    "FilterAtlanticBoxPct = robjects.globalenv['FilterAtlanticBoxPct'] \n",
    "\n",
    "# Now, you can use the same function in python, as if it were defined as follows:\n",
    "# def FilterAtlanticBoxPct(filter, filterRange, betaFactor, betaRange, values, AUM):\n",
    "#     ...\n",
    "#     ...\n",
    "#     return x"
   ]
  }
 ],
 "metadata": {
  "kernelspec": {
   "display_name": "Python 3 (ipykernel)",
   "language": "python",
   "name": "python3"
  },
  "language_info": {
   "codemirror_mode": {
    "name": "ipython",
    "version": 3
   },
   "file_extension": ".py",
   "mimetype": "text/x-python",
   "name": "python",
   "nbconvert_exporter": "python",
   "pygments_lexer": "ipython3",
   "version": "3.10.8"
  }
 },
 "nbformat": 4,
 "nbformat_minor": 5
}
