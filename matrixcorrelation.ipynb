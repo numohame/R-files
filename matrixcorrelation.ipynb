{
 "cells": [
  {
   "cell_type": "code",
   "execution_count": null,
   "id": "249ed213",
   "metadata": {},
   "outputs": [],
   "source": [
    "# You need to run this function in the command line\n",
    "# pip install rpy2[all]\n",
    "import rpy2\n",
    "import rpy2.robjects as robjects\n",
    "from rpy2.robjects import pandas2ri\n",
    "pandas2ri.activate()"
   ]
  },
  {
   "cell_type": "code",
   "execution_count": null,
   "id": "718e4a2e",
   "metadata": {},
   "outputs": [],
   "source": [
    "# matrixcorrelation.R\n",
    "\n",
    "# MatrixCorrelation function\n",
    "matrix_correlation = '''\n",
    "MatrixCorrelation <- function( m, data.in.columns=TRUE){\n",
    "  x <- cor(t(m)); \n",
    "  return( x );\n",
    "}\n",
    "'''\n",
    "robjects.r(matrix_correlation)\n",
    "MatrixCorrelation = robjects.globalenv['MatrixCorrelation']\n",
    "\n",
    "# MatrixCovariance function\n",
    "matrix_covariance = '''\n",
    "MatrixCovariance <- function( m, data.in.columns=TRUE){\n",
    "  x <- cov(t(m)); \n",
    "  return( x );\n",
    "}\n",
    "'''\n",
    "robjects.r(matrix_covariance)\n",
    "MatrixCovariance = robjects.globalenv['MatrixCovariance']\n",
    "\n",
    "# PortStDev function\n",
    "port_st_dev = '''\n",
    "PortStDev <- function ( rtns, wgt, data.in.columns=TRUE){ \n",
    "  mat <- cov(rtns); \n",
    "  x <- sqrt(t(wgt)%*%(mat%*%wgt));\n",
    "  return( x );\n",
    "}\n",
    "'''\n",
    "robjects.r(port_st_dev)\n",
    "PortStDev = robjects.globalenv['PortStDev']\n",
    "\n",
    "# VaR95 function\n",
    "var_95 = '''\n",
    "VaR95 <- function ( rtns, wgt, data.in.columns=TRUE){ \n",
    "  mat <- cov(rtns); \n",
    "  x <- sqrt(t(wgt)%*%(mat%*%wgt))*1.644854;\n",
    "  return( x );\n",
    "}\n",
    "'''\n",
    "robjects.r(var_95)\n",
    "VaR95 = robjects.globalenv['VaR95']\n",
    "\n",
    "# VaR99 function\n",
    "var_99 = '''\n",
    "VaR99 <- function ( rtns, wgt, data.in.columns=TRUE){ \n",
    "  mat <- cov(rtns); \n",
    "  x <- sqrt(t(wgt)%*%(mat%*%wgt))*2.326348;\n",
    "  return( x );\n",
    "}\n",
    "'''\n",
    "robjects.r(var_99)\n",
    "VaR99 = robjects.globalenv['VaR99']"
   ]
  }
 ],
 "metadata": {
  "kernelspec": {
   "display_name": "Python 3 (ipykernel)",
   "language": "python",
   "name": "python3"
  },
  "language_info": {
   "codemirror_mode": {
    "name": "ipython",
    "version": 3
   },
   "file_extension": ".py",
   "mimetype": "text/x-python",
   "name": "python",
   "nbconvert_exporter": "python",
   "pygments_lexer": "ipython3",
   "version": "3.10.8"
  }
 },
 "nbformat": 4,
 "nbformat_minor": 5
}
