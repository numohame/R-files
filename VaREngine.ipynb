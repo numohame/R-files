{
 "cells": [
  {
   "cell_type": "code",
   "execution_count": null,
   "id": "1cc4a7d6",
   "metadata": {},
   "outputs": [],
   "source": [
    "# You need to run this function in the command line\n",
    "# pip install rpy2[all]\n",
    "import rpy2\n",
    "import rpy2.robjects as robjects\n",
    "from rpy2.robjects import pandas2ri\n",
    "pandas2ri.activate()"
   ]
  },
  {
   "cell_type": "code",
   "execution_count": null,
   "id": "741550cf",
   "metadata": {},
   "outputs": [],
   "source": [
    "# VaREngine.R\n",
    "\n",
    "# VaREngine function\n",
    "var_engine = '''\n",
    "VaREngine <- function(positionTable,riskfactors,data.in.columns=TRUE){\n",
    "  Pos <- range.to.data.frame(positionTable, TRUE);\n",
    "  Sector <- as.vector(Pos$Sector);\n",
    "  count <- nrow(riskfactors);\n",
    "  ln <- log(riskfactors[2:count,]/riskfactors[1:count-1,]);\n",
    "  count <- nrow(ln);\n",
    "  nn <- seq(count,1);\n",
    "  df <- ((1-.94)*.94^(nn-1))^.5;\n",
    "  df_ln <- ln*df;\n",
    "  covmat <- t(df_ln)%*%df_ln;\n",
    "  x <- covmat[1:10,1:10];\n",
    "  return( x );\n",
    "}\n",
    "'''\n",
    "robjects.r(var_engine)\n",
    "VaREngine = robjects.globalenv['VaREngine']"
   ]
  }
 ],
 "metadata": {
  "kernelspec": {
   "display_name": "Python 3 (ipykernel)",
   "language": "python",
   "name": "python3"
  },
  "language_info": {
   "codemirror_mode": {
    "name": "ipython",
    "version": 3
   },
   "file_extension": ".py",
   "mimetype": "text/x-python",
   "name": "python",
   "nbconvert_exporter": "python",
   "pygments_lexer": "ipython3",
   "version": "3.10.8"
  }
 },
 "nbformat": 4,
 "nbformat_minor": 5
}
